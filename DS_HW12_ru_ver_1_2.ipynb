{
  "nbformat": 4,
  "nbformat_minor": 0,
  "metadata": {
    "colab": {
      "provenance": [],
      "authorship_tag": "ABX9TyNs/8lXRz6y97gWUN3F1qZx",
      "include_colab_link": true
    },
    "kernelspec": {
      "name": "python3",
      "display_name": "Python 3"
    },
    "language_info": {
      "name": "python"
    }
  },
  "cells": [
    {
      "cell_type": "markdown",
      "metadata": {
        "id": "view-in-github",
        "colab_type": "text"
      },
      "source": [
        "<a href=\"https://colab.research.google.com/github/evgeniytr1509/HW_DS_12/blob/main/DS_HW12_ru_ver_1_2.ipynb\" target=\"_parent\"><img src=\"https://colab.research.google.com/assets/colab-badge.svg\" alt=\"Open In Colab\"/></a>"
      ]
    },
    {
      "cell_type": "code",
      "source": [
        "import nltk\n",
        "from nltk.corpus import stopwords\n",
        "from nltk.tokenize import sent_tokenize, word_tokenize\n",
        "\n",
        "nltk.download('punkt')\n",
        "nltk.download('stopwords')\n",
        "\n",
        "def nltk_summary_multi(text, num_sentences=3):\n",
        "    sentences = sent_tokenize(text)\n",
        "    words = word_tokenize(text, language='russian')  # Указываем язык для токенизации\n",
        "\n",
        "    # Удаление стоп-слов\n",
        "    stop_words = set(stopwords.words(\"russian\"))\n",
        "    filtered_words = [word for word in words if word.casefold() not in stop_words]\n",
        "\n",
        "    # Вычисление частоты встречаемости слов\n",
        "    word_frequencies = {}\n",
        "    for word in filtered_words:\n",
        "        if word not in word_frequencies:\n",
        "            word_frequencies[word] = 1\n",
        "        else:\n",
        "            word_frequencies[word] += 1\n",
        "\n",
        "    # Вычисление взвешенной частоты предложений\n",
        "    sentence_scores = {}\n",
        "    for sentence in sentences:\n",
        "        for word, freq in word_frequencies.items():\n",
        "            if word in sentence:\n",
        "                if sentence not in sentence_scores:\n",
        "                    sentence_scores[sentence] = freq\n",
        "                else:\n",
        "                    sentence_scores[sentence] += freq\n",
        "\n",
        "    # Сортировка предложений по взвешенной частоте в убывающем порядке\n",
        "    sorted_sentences = sorted(sentence_scores.items(), key=lambda x: x[1], reverse=True)\n",
        "\n",
        "    # Вывод нескольких самых значимых предложений\n",
        "    summary = \" \".join([sentence for sentence, score in sorted_sentences[:num_sentences]])\n",
        "    return summary\n",
        "\n",
        "# Пример использования\n",
        "text_to_summarize_ru = \"\"\"\n",
        " – Кто такой Джон Голт?\n",
        " Уже темнело, и Эдди Уиллерс не мог различить лица этого типа. Бродяга произнес четыре слова просто, без выражения.\n",
        " Однако далекий отсвет заката, еще желтевшего в конце улицы, отражался в его глазах, и глаза эти смотрели на Эдди Уиллерса как бы и с насмешкой,\n",
        " и вместе с тем невозмутимо, словно вопрос был адресован снедавшему его беспричинному беспокойству.– Почему ты спрашиваешь? – Эдди Уиллерс встревожился.\n",
        " Бездельник стоял, прислонясь плечом к дверной раме, и в клинышке битого стекла за ним отражалась огненная желтизна неба.– А почему тебя это волнует? – спросил он.–\n",
        " Нисколько не волнует, – отрезал Эдди Уиллерс.Он поспешно запустил руку в карман. Тип остановил его и попросил одолжить десять центов, а потом затеял беседу,\n",
        " словно бы пытаясь поскорее разделаться с настоящим мгновением и примериться к следующему. В последнее время на улицах столь часто попрошайничали, что выслушивать\n",
        " объяснения было незачем, и у него даже не мелькнуло ни малейшего желания вникать в причины финансовых трудностей этого бродяги.– Держи, выпьешь кофе, – обратился\n",
        " Эдди к не имеющему лица силуэту.– Благодарю вас, сэр, – ответил ему равнодушный голос, и лицо на мгновение появилось из темноты. Загорелую и обветренную физиономию\n",
        " изрезали морщины, свидетельствовавшие об усталости и полном цинизма безразличии; глаза выдавали незаурядный ум. И Эдди Уиллерс отправился дальше, гадая о том, почему\n",
        " в это время суток он всегда испытывает беспричинный ужас. Впрочем, нет, не ужас, подумал он, бояться ему нечего: просто чрезвычайно мрачное и неопределенное предчувствие,\n",
        "  не имеющее ни источника, ни предмета. Он успел сжиться с этим чувством, однако не мог найти ему объяснения; и все же попрошайка произнес свои слова так, как если бы знал,\n",
        "  что чувствует Эдди, как если бы знал, что он должен ощущать, более того, как если бы знал причину.Эдди Уиллерс распрямил плечи в надежде привести себя в порядок.\n",
        "   Пора прекратить это, а то уже мерещиться начинает. А всегда ли с ним так было? Сейчас ему тридцать два. Эдди попытался припомнить. Нет, не всегда; однако, когда\n",
        "   это началось, он не сумел воспроизвести в памяти. Ощущение приходило к нему внезапно и случайно, но теперь приступы повторялись чаще, чем когда-либо. «Это все сумерки, –\n",
        "    подумал он, – ненавижу сумерки».Облака с вырисовавшимися на них башнями небоскребов обретали коричневый оттенок, превращаясь в подобие старинной живописи, поблекшего с\n",
        "    веками шедевра. Длинные потеки грязи бежали из-под башенок по стенам, покрытым сажей, застывшей молнией протянулась на десять этажей трещина. Зазубренный предмет рассекал\n",
        "    небо над крышами: одна сторона его была расцвечена закатом, с другой солнечная позолота давно осыпалась. Шпиль светился красным светом, подобным отражению огня: уже не\n",
        "     пылающего, но догорающего, который слишком поздно гасить.Нет, не было ничего тревожного в облике города, казавшегося совершенно обычным.Он отправился дальше, напоминая себе\n",
        "     на ходу, что пора в контору. То, что он должен сделать после возвращения, ему не нравилось, однако отлагательств не терпело. Он заставил себя поторопиться.В узком пространстве\n",
        "      между темными силуэтами двух зданий, словно в щели приоткрывшейся двери, Эдди Уиллерс увидел светящуюся в небе страничку гигантского календаря.Этот календарь мэр Нью-Йорка\n",
        "  воздвиг в прошлом году на крыше небоскреба, чтобы жители легко могли определить, какой сегодня день, так же легко, как и время на башне с часами. Белый прямоугольник\n",
        "  парил над городом, сообщая текущую дату заполнявшим улицы людям. В ржавом свете заката прямоугольник сообщал: 2 сентября.Эдди Уиллерс отвернулся. Этот календарь\n",
        "   никогда не нравился ему, календарь раздражал Эдди, но почему, сказать он не мог. Чувство это примешивалось к снедавшей его тревоге; в них угадывалось нечто общее.\n",
        "         Ему вдруг припомнился осколок некой фразы, выражавшей то, на что намекал своим существованием календарь. Однако никак не удавалось отыскать эту фразу. Эдди шел,\n",
        "         пытаясь все же наполнить смыслом то, что пока застряло в сознании пустым силуэтом. Очертания противились словам, но исчезать не желали. Он обернулся.\n",
        "         Белый прямоугольник возвышался над крышей, оповещая с непререкаемой решительностью: 2 сентября.Эдди Уиллерс перевел взгляд на улицу, на тележку с овощами,\n",
        "         стоявшую у дома из красного кирпича. Он увидел груду яркой золотистой моркови и свежие перья зеленого лука. Чистая белая занавеска плескалась из открытого окна.\n",
        "          Автобус аккуратно заворачивал за угол, повинуясь умелой руке. Уиллерс удивился вернувшемуся чувству уверенности и странному, необъяснимому желанию защитить этот\n",
        "           мир от давящей пустоты неба.Дойдя до Пятой авеню, он принялся рассматривать витрины магазинов. Ему ничего не было нужно, он ничего не хотел покупать; но ему нравились\n",
        "           витрины с товарами, любыми товарами, сделанными людьми и предназначенными для людей. Видеть процветающую улицу всегда приятно; здесь было закрыто не более четверти\n",
        "           магазинов, и пустовали только их темные витрины.Не зная почему, он вспомнил дуб. Ничто здесь не напоминало это дерево, но он вспомнил летние дни, проведенные в поместье Таггертов.\n",
        "           Большая часть его детства прошла в компании детей Таггертов, а теперь он работал в их корпорации, как его дед и отец работали у деда и отца Таггертов.\n",
        "           Огромный дуб высился на выходящем к Гудзону холме, расположенном в укромном уголке поместья. В возрасте семи лет Эдди Уиллерс любил приходить к этому дереву.\n",
        "            Оно уже простояло здесь не одну сотню лет, и мальчику казалось, что так будет всегда. Корни дуба впивались в холм, как ухватившая землю пятерня, и\n",
        "             Эдди казалось, что, даже если великан схватит дерево за верхушку, он все равно не сумеет вырвать его, но лишь пошатнет холм, а вместе с ним и всю землю,\n",
        "             которая повиснет на корнях дерева словно шарик на веревочке. Он чувствовал себя в безопасности возле этого дуба: дерево не могло таить в себе угрозу,\n",
        "             оно воплощало величайший, с точки зрения мальчика, символ силы.Но однажды ночью в дуб ударила молния. Эдди увидел дерево на следующее утро.\n",
        "             Дуб переломился пополам, и он заглянул внутрь ствола как в жерло черного тоннеля. Ствол оказался пустым; сердцевина давным-давно сгнила,\n",
        "             внутри остался только мелкий серый прах, который уносило дыхание легкого ветерка. Жизнь ушла, а оставленная ею форма не могла существовать\n",
        "             самостоятельно.Позже он узнал, что детей надлежит защищать от потрясений: от соприкосновения со смертью, болью или страхом.\n",
        "             Теперь это уже не могло ранить его; он испытал свою меру ужаса и отчаяния, заглядывая в черную дыру посреди ствола.\n",
        "              Случившееся было подобно невероятному предательству – тем более страшному, что он не мог понять, в чем именно оно заключалось.\n",
        "               И дело не в нем, не в его вере, он знал это; речь шла о чем-то совершенно другом. Он постоял немного, не проронив ни звука,\n",
        "               а потом отправился назад, к дому.Ни тогда, ни после он никому не рассказывал об этом.Эдди Уиллерс покачал головой, когда скрежет ржавого механизма,\n",
        "                переключавшего огни в светофоре, остановил его на краю тротуара. Он был рассержен на себя самого. Сегодня у него не было никаких причин вспоминать про этот дуб.\n",
        "                 Давняя история ничего более не значила для него, кроме легкого прикосновения печали, но где-то внутри капельки боли, торопливо скользившие словно по оконному стеклу,\n",
        "                 оставляли за собой след в виде вопросительного знака.Он не хотел, чтобы с детскими воспоминаниями было связано нечто печальное; он любил все, связанное со своим детством:\n",
        "                  каждый из прежних дней был заполнен спокойным и ослепительным солнечным светом. Ему казалось, что несколько лучей этого света еще достигают настоящего:\n",
        "                  впрочем, скорее, не лучей, а дальних огоньков, иногда своими отблесками озарявших его работу, одинокую квартиру, тихое и размеренное шествие дней.\n",
        "                  Эдди припомнил один из летних дней, когда ему было десять лет. Тогда на лесной прогалине любимая подруга детства рассказывала ему о том, что они\n",
        "                   будут делать, когда вырастут. Ее слова ослепляли сильнее, чем солнце. Он внимал ей с восхищением и удивлением и, когда она спросила, чем бы он\n",
        "                   хотел заниматься, ответил без промедления:– Чем-нибудь правильным, – и добавил: – Надо бы совершить что-нибудь великое… Ну, то есть нам вдвоем.– Что же именно? – спросила она.\n",
        "                   Он ответил:– Не знаю. Мы должны это узнать. Но не только то, о чем ты говорила – про свой бизнес, про то, как заработать на жизнь. Ну, вроде того, чтобы победить в сражении,\n",
        "                    спасти людей из огня или подняться на вершину горы.– Зачем? – спросила она, и он ответил:– В прошлое воскресенье священник говорил, что мы всегда должны искать в себе лучшее.\n",
        "                    А что, по-твоему, может быть в нас лучшим?– Не знаю.– Мы должны это узнать.Она не ответила – потому что глядела вдаль, вдоль железнодорожной колеи.Эдди Уиллерс улыбнулся.\n",
        "                     Он произнес эти слова – «чем-нибудь правильным» – 22 года назад, и с тех пор они оставались для него аксиомой. Прочие вопросы тускнели в его памяти: он был слишком занят,\n",
        "                     чтобы задаваться ими. Однако он считал бесспорным, что делать надлежит то, что считаешь правильным; он так и не сумел понять, почему люди могут поступать иначе, хотя знал,\n",
        "                      что именно так они и делают. Все казалось ему одновременно и простым, и непостижимым: простым в том смысле, что все должно быть правильным, и непостижимым потому, что так не получалось.\n",
        "                       Думая об этом, он и подошел к огромному зданию « Таггерт Трансконтинентал» .\n",
        "\n",
        "\"\"\"\n",
        "\n",
        "num_sentences_to_output_ru = 5   # количество наиболее значимых предложений\n",
        "result_ru = nltk_summary_multi(text_to_summarize_ru, num_sentences_to_output_ru)\n",
        "\n",
        "\n",
        "print(f\"NLTK Суммаризация ({num_sentences_to_output_ru} предложения):\\n{result_ru}\")\n"
      ],
      "metadata": {
        "colab": {
          "base_uri": "https://localhost:8080/"
        },
        "id": "-qDELNjuqAgb",
        "outputId": "1c4af185-7fe1-4adb-ed7b-704304f09013"
      },
      "execution_count": null,
      "outputs": [
        {
          "output_type": "stream",
          "name": "stdout",
          "text": [
            "NLTK Суммаризация (5 предложения):\n",
            "В последнее время на улицах столь часто попрошайничали, что выслушивать\n",
            " объяснения было незачем, и у него даже не мелькнуло ни малейшего желания вникать в причины финансовых трудностей этого бродяги.– Держи, выпьешь кофе, – обратился\n",
            " Эдди к не имеющему лица силуэту.– Благодарю вас, сэр, – ответил ему равнодушный голос, и лицо на мгновение появилось из темноты. Однако далекий отсвет заката, еще желтевшего в конце улицы, отражался в его глазах, и глаза эти смотрели на Эдди Уиллерса как бы и с насмешкой,\n",
            " и вместе с тем невозмутимо, словно вопрос был адресован снедавшему его беспричинному беспокойству.– Почему ты спрашиваешь? Давняя история ничего более не значила для него, кроме легкого прикосновения печали, но где-то внутри капельки боли, торопливо скользившие словно по оконному стеклу,\n",
            "                 оставляли за собой след в виде вопросительного знака.Он не хотел, чтобы с детскими воспоминаниями было связано нечто печальное; он любил все, связанное со своим детством:\n",
            "                  каждый из прежних дней был заполнен спокойным и ослепительным солнечным светом. А что, по-твоему, может быть в нас лучшим?– Не знаю.– Мы должны это узнать.Она не ответила – потому что глядела вдаль, вдоль железнодорожной колеи.Эдди Уиллерс улыбнулся. Он заставил себя поторопиться.В узком пространстве\n",
            "      между темными силуэтами двух зданий, словно в щели приоткрывшейся двери, Эдди Уиллерс увидел светящуюся в небе страничку гигантского календаря.Этот календарь мэр Нью-Йорка\n",
            "  воздвиг в прошлом году на крыше небоскреба, чтобы жители легко могли определить, какой сегодня день, так же легко, как и время на башне с часами.\n"
          ]
        },
        {
          "output_type": "stream",
          "name": "stderr",
          "text": [
            "[nltk_data] Downloading package punkt to /root/nltk_data...\n",
            "[nltk_data]   Package punkt is already up-to-date!\n",
            "[nltk_data] Downloading package stopwords to /root/nltk_data...\n",
            "[nltk_data]   Package stopwords is already up-to-date!\n"
          ]
        }
      ]
    },
    {
      "cell_type": "code",
      "source": [
        "pip install SpaCy"
      ],
      "metadata": {
        "colab": {
          "base_uri": "https://localhost:8080/"
        },
        "id": "PXJbuzz4oKty",
        "outputId": "74fc927a-3789-474d-c18f-c58b80a6ff38"
      },
      "execution_count": null,
      "outputs": [
        {
          "output_type": "stream",
          "name": "stdout",
          "text": [
            "Requirement already satisfied: SpaCy in /usr/local/lib/python3.10/dist-packages (3.6.1)\n",
            "Requirement already satisfied: spacy-legacy<3.1.0,>=3.0.11 in /usr/local/lib/python3.10/dist-packages (from SpaCy) (3.0.12)\n",
            "Requirement already satisfied: spacy-loggers<2.0.0,>=1.0.0 in /usr/local/lib/python3.10/dist-packages (from SpaCy) (1.0.5)\n",
            "Requirement already satisfied: murmurhash<1.1.0,>=0.28.0 in /usr/local/lib/python3.10/dist-packages (from SpaCy) (1.0.10)\n",
            "Requirement already satisfied: cymem<2.1.0,>=2.0.2 in /usr/local/lib/python3.10/dist-packages (from SpaCy) (2.0.8)\n",
            "Requirement already satisfied: preshed<3.1.0,>=3.0.2 in /usr/local/lib/python3.10/dist-packages (from SpaCy) (3.0.9)\n",
            "Requirement already satisfied: thinc<8.2.0,>=8.1.8 in /usr/local/lib/python3.10/dist-packages (from SpaCy) (8.1.12)\n",
            "Requirement already satisfied: wasabi<1.2.0,>=0.9.1 in /usr/local/lib/python3.10/dist-packages (from SpaCy) (1.1.2)\n",
            "Requirement already satisfied: srsly<3.0.0,>=2.4.3 in /usr/local/lib/python3.10/dist-packages (from SpaCy) (2.4.8)\n",
            "Requirement already satisfied: catalogue<2.1.0,>=2.0.6 in /usr/local/lib/python3.10/dist-packages (from SpaCy) (2.0.10)\n",
            "Requirement already satisfied: typer<0.10.0,>=0.3.0 in /usr/local/lib/python3.10/dist-packages (from SpaCy) (0.9.0)\n",
            "Requirement already satisfied: pathy>=0.10.0 in /usr/local/lib/python3.10/dist-packages (from SpaCy) (0.10.3)\n",
            "Requirement already satisfied: smart-open<7.0.0,>=5.2.1 in /usr/local/lib/python3.10/dist-packages (from SpaCy) (6.4.0)\n",
            "Requirement already satisfied: tqdm<5.0.0,>=4.38.0 in /usr/local/lib/python3.10/dist-packages (from SpaCy) (4.66.1)\n",
            "Requirement already satisfied: numpy>=1.15.0 in /usr/local/lib/python3.10/dist-packages (from SpaCy) (1.23.5)\n",
            "Requirement already satisfied: requests<3.0.0,>=2.13.0 in /usr/local/lib/python3.10/dist-packages (from SpaCy) (2.31.0)\n",
            "Requirement already satisfied: pydantic!=1.8,!=1.8.1,<3.0.0,>=1.7.4 in /usr/local/lib/python3.10/dist-packages (from SpaCy) (1.10.13)\n",
            "Requirement already satisfied: jinja2 in /usr/local/lib/python3.10/dist-packages (from SpaCy) (3.1.2)\n",
            "Requirement already satisfied: setuptools in /usr/local/lib/python3.10/dist-packages (from SpaCy) (67.7.2)\n",
            "Requirement already satisfied: packaging>=20.0 in /usr/local/lib/python3.10/dist-packages (from SpaCy) (23.2)\n",
            "Requirement already satisfied: langcodes<4.0.0,>=3.2.0 in /usr/local/lib/python3.10/dist-packages (from SpaCy) (3.3.0)\n",
            "Requirement already satisfied: typing-extensions>=4.2.0 in /usr/local/lib/python3.10/dist-packages (from pydantic!=1.8,!=1.8.1,<3.0.0,>=1.7.4->SpaCy) (4.5.0)\n",
            "Requirement already satisfied: charset-normalizer<4,>=2 in /usr/local/lib/python3.10/dist-packages (from requests<3.0.0,>=2.13.0->SpaCy) (3.3.2)\n",
            "Requirement already satisfied: idna<4,>=2.5 in /usr/local/lib/python3.10/dist-packages (from requests<3.0.0,>=2.13.0->SpaCy) (3.4)\n",
            "Requirement already satisfied: urllib3<3,>=1.21.1 in /usr/local/lib/python3.10/dist-packages (from requests<3.0.0,>=2.13.0->SpaCy) (2.0.7)\n",
            "Requirement already satisfied: certifi>=2017.4.17 in /usr/local/lib/python3.10/dist-packages (from requests<3.0.0,>=2.13.0->SpaCy) (2023.7.22)\n",
            "Requirement already satisfied: blis<0.8.0,>=0.7.8 in /usr/local/lib/python3.10/dist-packages (from thinc<8.2.0,>=8.1.8->SpaCy) (0.7.11)\n",
            "Requirement already satisfied: confection<1.0.0,>=0.0.1 in /usr/local/lib/python3.10/dist-packages (from thinc<8.2.0,>=8.1.8->SpaCy) (0.1.3)\n",
            "Requirement already satisfied: click<9.0.0,>=7.1.1 in /usr/local/lib/python3.10/dist-packages (from typer<0.10.0,>=0.3.0->SpaCy) (8.1.7)\n",
            "Requirement already satisfied: MarkupSafe>=2.0 in /usr/local/lib/python3.10/dist-packages (from jinja2->SpaCy) (2.1.3)\n"
          ]
        }
      ]
    },
    {
      "cell_type": "code",
      "source": [
        "!python -m spacy download ru_core_news_sm"
      ],
      "metadata": {
        "colab": {
          "base_uri": "https://localhost:8080/"
        },
        "id": "qR3j1YRZoPhL",
        "outputId": "a52908ad-539e-48bb-babf-8c41f12543db"
      },
      "execution_count": null,
      "outputs": [
        {
          "output_type": "stream",
          "name": "stdout",
          "text": [
            "2023-11-17 18:52:58.226023: E tensorflow/compiler/xla/stream_executor/cuda/cuda_dnn.cc:9342] Unable to register cuDNN factory: Attempting to register factory for plugin cuDNN when one has already been registered\n",
            "2023-11-17 18:52:58.226093: E tensorflow/compiler/xla/stream_executor/cuda/cuda_fft.cc:609] Unable to register cuFFT factory: Attempting to register factory for plugin cuFFT when one has already been registered\n",
            "2023-11-17 18:52:58.226136: E tensorflow/compiler/xla/stream_executor/cuda/cuda_blas.cc:1518] Unable to register cuBLAS factory: Attempting to register factory for plugin cuBLAS when one has already been registered\n",
            "2023-11-17 18:53:02.889804: W tensorflow/compiler/tf2tensorrt/utils/py_utils.cc:38] TF-TRT Warning: Could not find TensorRT\n",
            "Collecting ru-core-news-sm==3.6.0\n",
            "  Downloading https://github.com/explosion/spacy-models/releases/download/ru_core_news_sm-3.6.0/ru_core_news_sm-3.6.0-py3-none-any.whl (15.3 MB)\n",
            "\u001b[2K     \u001b[90m━━━━━━━━━━━━━━━━━━━━━━━━━━━━━━━━━━━━━━━━\u001b[0m \u001b[32m15.3/15.3 MB\u001b[0m \u001b[31m38.1 MB/s\u001b[0m eta \u001b[36m0:00:00\u001b[0m\n",
            "\u001b[?25hRequirement already satisfied: spacy<3.7.0,>=3.6.0 in /usr/local/lib/python3.10/dist-packages (from ru-core-news-sm==3.6.0) (3.6.1)\n",
            "Collecting pymorphy3>=1.0.0 (from ru-core-news-sm==3.6.0)\n",
            "  Downloading pymorphy3-1.2.1-py3-none-any.whl (55 kB)\n",
            "\u001b[2K     \u001b[90m━━━━━━━━━━━━━━━━━━━━━━━━━━━━━━━━━━━━━━━━\u001b[0m \u001b[32m55.4/55.4 kB\u001b[0m \u001b[31m1.8 MB/s\u001b[0m eta \u001b[36m0:00:00\u001b[0m\n",
            "\u001b[?25hCollecting dawg-python>=0.7.1 (from pymorphy3>=1.0.0->ru-core-news-sm==3.6.0)\n",
            "  Downloading DAWG_Python-0.7.2-py2.py3-none-any.whl (11 kB)\n",
            "Collecting docopt-ng>=0.6 (from pymorphy3>=1.0.0->ru-core-news-sm==3.6.0)\n",
            "  Downloading docopt_ng-0.9.0-py3-none-any.whl (16 kB)\n",
            "Collecting pymorphy3-dicts-ru (from pymorphy3>=1.0.0->ru-core-news-sm==3.6.0)\n",
            "  Downloading pymorphy3_dicts_ru-2.4.417150.4580142-py2.py3-none-any.whl (8.4 MB)\n",
            "\u001b[2K     \u001b[90m━━━━━━━━━━━━━━━━━━━━━━━━━━━━━━━━━━━━━━━━\u001b[0m \u001b[32m8.4/8.4 MB\u001b[0m \u001b[31m28.1 MB/s\u001b[0m eta \u001b[36m0:00:00\u001b[0m\n",
            "\u001b[?25hRequirement already satisfied: spacy-legacy<3.1.0,>=3.0.11 in /usr/local/lib/python3.10/dist-packages (from spacy<3.7.0,>=3.6.0->ru-core-news-sm==3.6.0) (3.0.12)\n",
            "Requirement already satisfied: spacy-loggers<2.0.0,>=1.0.0 in /usr/local/lib/python3.10/dist-packages (from spacy<3.7.0,>=3.6.0->ru-core-news-sm==3.6.0) (1.0.5)\n",
            "Requirement already satisfied: murmurhash<1.1.0,>=0.28.0 in /usr/local/lib/python3.10/dist-packages (from spacy<3.7.0,>=3.6.0->ru-core-news-sm==3.6.0) (1.0.10)\n",
            "Requirement already satisfied: cymem<2.1.0,>=2.0.2 in /usr/local/lib/python3.10/dist-packages (from spacy<3.7.0,>=3.6.0->ru-core-news-sm==3.6.0) (2.0.8)\n",
            "Requirement already satisfied: preshed<3.1.0,>=3.0.2 in /usr/local/lib/python3.10/dist-packages (from spacy<3.7.0,>=3.6.0->ru-core-news-sm==3.6.0) (3.0.9)\n",
            "Requirement already satisfied: thinc<8.2.0,>=8.1.8 in /usr/local/lib/python3.10/dist-packages (from spacy<3.7.0,>=3.6.0->ru-core-news-sm==3.6.0) (8.1.12)\n",
            "Requirement already satisfied: wasabi<1.2.0,>=0.9.1 in /usr/local/lib/python3.10/dist-packages (from spacy<3.7.0,>=3.6.0->ru-core-news-sm==3.6.0) (1.1.2)\n",
            "Requirement already satisfied: srsly<3.0.0,>=2.4.3 in /usr/local/lib/python3.10/dist-packages (from spacy<3.7.0,>=3.6.0->ru-core-news-sm==3.6.0) (2.4.8)\n",
            "Requirement already satisfied: catalogue<2.1.0,>=2.0.6 in /usr/local/lib/python3.10/dist-packages (from spacy<3.7.0,>=3.6.0->ru-core-news-sm==3.6.0) (2.0.10)\n",
            "Requirement already satisfied: typer<0.10.0,>=0.3.0 in /usr/local/lib/python3.10/dist-packages (from spacy<3.7.0,>=3.6.0->ru-core-news-sm==3.6.0) (0.9.0)\n",
            "Requirement already satisfied: pathy>=0.10.0 in /usr/local/lib/python3.10/dist-packages (from spacy<3.7.0,>=3.6.0->ru-core-news-sm==3.6.0) (0.10.3)\n",
            "Requirement already satisfied: smart-open<7.0.0,>=5.2.1 in /usr/local/lib/python3.10/dist-packages (from spacy<3.7.0,>=3.6.0->ru-core-news-sm==3.6.0) (6.4.0)\n",
            "Requirement already satisfied: tqdm<5.0.0,>=4.38.0 in /usr/local/lib/python3.10/dist-packages (from spacy<3.7.0,>=3.6.0->ru-core-news-sm==3.6.0) (4.66.1)\n",
            "Requirement already satisfied: numpy>=1.15.0 in /usr/local/lib/python3.10/dist-packages (from spacy<3.7.0,>=3.6.0->ru-core-news-sm==3.6.0) (1.23.5)\n",
            "Requirement already satisfied: requests<3.0.0,>=2.13.0 in /usr/local/lib/python3.10/dist-packages (from spacy<3.7.0,>=3.6.0->ru-core-news-sm==3.6.0) (2.31.0)\n",
            "Requirement already satisfied: pydantic!=1.8,!=1.8.1,<3.0.0,>=1.7.4 in /usr/local/lib/python3.10/dist-packages (from spacy<3.7.0,>=3.6.0->ru-core-news-sm==3.6.0) (1.10.13)\n",
            "Requirement already satisfied: jinja2 in /usr/local/lib/python3.10/dist-packages (from spacy<3.7.0,>=3.6.0->ru-core-news-sm==3.6.0) (3.1.2)\n",
            "Requirement already satisfied: setuptools in /usr/local/lib/python3.10/dist-packages (from spacy<3.7.0,>=3.6.0->ru-core-news-sm==3.6.0) (67.7.2)\n",
            "Requirement already satisfied: packaging>=20.0 in /usr/local/lib/python3.10/dist-packages (from spacy<3.7.0,>=3.6.0->ru-core-news-sm==3.6.0) (23.2)\n",
            "Requirement already satisfied: langcodes<4.0.0,>=3.2.0 in /usr/local/lib/python3.10/dist-packages (from spacy<3.7.0,>=3.6.0->ru-core-news-sm==3.6.0) (3.3.0)\n",
            "Requirement already satisfied: typing-extensions>=4.2.0 in /usr/local/lib/python3.10/dist-packages (from pydantic!=1.8,!=1.8.1,<3.0.0,>=1.7.4->spacy<3.7.0,>=3.6.0->ru-core-news-sm==3.6.0) (4.5.0)\n",
            "Requirement already satisfied: charset-normalizer<4,>=2 in /usr/local/lib/python3.10/dist-packages (from requests<3.0.0,>=2.13.0->spacy<3.7.0,>=3.6.0->ru-core-news-sm==3.6.0) (3.3.2)\n",
            "Requirement already satisfied: idna<4,>=2.5 in /usr/local/lib/python3.10/dist-packages (from requests<3.0.0,>=2.13.0->spacy<3.7.0,>=3.6.0->ru-core-news-sm==3.6.0) (3.4)\n",
            "Requirement already satisfied: urllib3<3,>=1.21.1 in /usr/local/lib/python3.10/dist-packages (from requests<3.0.0,>=2.13.0->spacy<3.7.0,>=3.6.0->ru-core-news-sm==3.6.0) (2.0.7)\n",
            "Requirement already satisfied: certifi>=2017.4.17 in /usr/local/lib/python3.10/dist-packages (from requests<3.0.0,>=2.13.0->spacy<3.7.0,>=3.6.0->ru-core-news-sm==3.6.0) (2023.7.22)\n",
            "Requirement already satisfied: blis<0.8.0,>=0.7.8 in /usr/local/lib/python3.10/dist-packages (from thinc<8.2.0,>=8.1.8->spacy<3.7.0,>=3.6.0->ru-core-news-sm==3.6.0) (0.7.11)\n",
            "Requirement already satisfied: confection<1.0.0,>=0.0.1 in /usr/local/lib/python3.10/dist-packages (from thinc<8.2.0,>=8.1.8->spacy<3.7.0,>=3.6.0->ru-core-news-sm==3.6.0) (0.1.3)\n",
            "Requirement already satisfied: click<9.0.0,>=7.1.1 in /usr/local/lib/python3.10/dist-packages (from typer<0.10.0,>=0.3.0->spacy<3.7.0,>=3.6.0->ru-core-news-sm==3.6.0) (8.1.7)\n",
            "Requirement already satisfied: MarkupSafe>=2.0 in /usr/local/lib/python3.10/dist-packages (from jinja2->spacy<3.7.0,>=3.6.0->ru-core-news-sm==3.6.0) (2.1.3)\n",
            "Installing collected packages: pymorphy3-dicts-ru, dawg-python, docopt-ng, pymorphy3, ru-core-news-sm\n",
            "Successfully installed dawg-python-0.7.2 docopt-ng-0.9.0 pymorphy3-1.2.1 pymorphy3-dicts-ru-2.4.417150.4580142 ru-core-news-sm-3.6.0\n",
            "\u001b[38;5;2m✔ Download and installation successful\u001b[0m\n",
            "You can now load the package via spacy.load('ru_core_news_sm')\n"
          ]
        }
      ]
    }
  ]
}
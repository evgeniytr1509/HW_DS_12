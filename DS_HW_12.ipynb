{
  "nbformat": 4,
  "nbformat_minor": 0,
  "metadata": {
    "colab": {
      "provenance": [],
      "authorship_tag": "ABX9TyMH3dA3ZoLFEYEOaTXiTHiw",
      "include_colab_link": true
    },
    "kernelspec": {
      "name": "python3",
      "display_name": "Python 3"
    },
    "language_info": {
      "name": "python"
    }
  },
  "cells": [
    {
      "cell_type": "markdown",
      "metadata": {
        "id": "view-in-github",
        "colab_type": "text"
      },
      "source": [
        "<a href=\"https://colab.research.google.com/github/evgeniytr1509/HW_DS_12/blob/main/DS_HW_12.ipynb\" target=\"_parent\"><img src=\"https://colab.research.google.com/assets/colab-badge.svg\" alt=\"Open In Colab\"/></a>"
      ]
    },
    {
      "cell_type": "code",
      "source": [
        "import nltk\n",
        "from nltk.corpus import stopwords\n",
        "from nltk.tokenize import sent_tokenize, word_tokenize\n",
        "import spacy\n",
        "\n",
        "# Загрузка данных для NLTK\n",
        "nltk.download('punkt')\n",
        "nltk.download('stopwords')\n",
        "\n",
        "# Загрузка SpaCy\n",
        "nlp_en = spacy.load(\"en_core_web_sm\")\n",
        "\n",
        "def nltk_summary(text):\n",
        "    sentences = sent_tokenize(text)\n",
        "    words = word_tokenize(text)\n",
        "\n",
        "    # Удаление стоп-слов\n",
        "    stop_words = set(stopwords.words(\"english\"))\n",
        "    filtered_words = [word for word in words if word.casefold() not in stop_words]\n",
        "\n",
        "    # Вычисление частоты встречаемости слов\n",
        "    word_frequencies = {}\n",
        "    for word in filtered_words:\n",
        "        if word not in word_frequencies:\n",
        "            word_frequencies[word] = 1\n",
        "        else:\n",
        "            word_frequencies[word] += 1\n",
        "\n",
        "    # Вычисление взвешенной частоты предложений\n",
        "    sentence_scores = {}\n",
        "    for sentence in sentences:\n",
        "        for word, freq in word_frequencies.items():\n",
        "            if word in sentence:\n",
        "                if sentence not in sentence_scores:\n",
        "                    sentence_scores[sentence] = freq\n",
        "                else:\n",
        "                    sentence_scores[sentence] += freq\n",
        "\n",
        "    # Вывод самого значимого предложения (можно настроить для вывода нескольких предложений)\n",
        "    summary = max(sentence_scores, key=sentence_scores.get)\n",
        "    return summary\n",
        "\n",
        "def spacy_summary(text):\n",
        "    doc = nlp_en(text)\n",
        "\n",
        "    # Использование встроенного метода SpaCy для извлечения ключевых предложений\n",
        "    sentences = [sent.text for sent in doc.sents]\n",
        "    summary = \" \".join(sentences[:2])  # Выбор первых двух предложений как резюме\n",
        "\n",
        "    return summary\n",
        "\n",
        "\n",
        "text_to_summarize = \"\"\"\n",
        "The Orbiter Discovery, OV-103, is considered eligible for listing in the National Register of Historic Places (NRHP) in\n",
        "the context of the U.S. Space Shuttle Program (1969-2011) under Criterion A in the areas of Space Exploration and\n",
        "Transportation and under Criterion C in the area of Engineering. Because it has achieved significance within the past fifty\n",
        "years, Criteria Consideration G applies. Under Criterion A, Discovery is significant as the oldest of the three extant orbiter\n",
        "vehicles constructed for the Space Shuttle Program (SSP), the longest running American space program to date; she was the third\n",
        "of five orbiters built by NASA. Unlike the Mercury, Gemini, and Apollo programs, the SSP’s emphasis was on cost effectiveness and\n",
        "reusability, and eventually the construction of a space station. Including her maiden voyage (launched August 30, 1984), Discovery flew\n",
        "to space thirty-nine times, more than any of the other four orbiters; she was also the first orbiter to fly twenty missions. She had the\n",
        "honor of being chosen as the Return to Flight vehicle after both the Challenger and Columbia accidents. Discovery was the first shuttle to\n",
        " fly with the redesigned SRBs, a result of the Challenger accident, and the first shuttle to fly with the Phase II and Block I SSME.\n",
        " Discovery also carried the Hubble Space Telescope to orbit and performed two of the five servicing missions to the observatory.\n",
        " She flew the first and last dedicated Department of Defense (DoD) missions, as well as the first unclassified defense-related mission.\n",
        "  In addition, Discovery was vital to the construction of the International Space Station (ISS); she flew thirteen of the thirty-seven\n",
        "  total missions flown to the station by a U.S. Space Shuttle. She was the first orbiter to dock to the ISS, and the first to perform\n",
        "  an exchange of a resident crew. Under Criterion C, Discovery is significant as a feat of engineering. According to Wayne Hale,\n",
        "  a flight director from Johnson Space Center, the Space Shuttle orbiter represents a “huge technological leap from expendable rockets\n",
        "  and capsules to a reusable, winged, hypersonic, cargo-carrying spacecraft.” Although her base structure followed a conventional\n",
        "  aircraft design, she used advanced materials that both minimized her weight for cargo-carrying purposes and featured low thermal\n",
        "  expansion ratios, which provided a stable base for her Thermal Protection System (TPS) materials. The Space Shuttle orbiter also\n",
        "   featured the first reusable TPS; all previous spaceflight vehicles had a single-use, ablative heat shield. Other notable\n",
        "   engineering achievements of the orbiter included the first reusable orbital propulsion system, and the first two-fault-tolerant\n",
        "   Integrated Avionics System. As Hale stated, the Space Shuttle remains “the largest, fastest, winged hypersonic aircraft\n",
        "    in history,” having regularly flown at twenty-five times the speed of sound.\n",
        "\"\"\"\n",
        "\n",
        "nltk_summary_result = nltk_summary(text_to_summarize)\n",
        "spacy_summary_result = spacy_summary(text_to_summarize)\n",
        "\n",
        "print(\"Результат суммаризации с использованием NLTK:\")\n",
        "print(nltk_summary_result)\n",
        "\n",
        "print(\"\\nРезультат суммаризации с использованием SpaCy:\")\n",
        "print(spacy_summary_result)\n"
      ],
      "metadata": {
        "colab": {
          "base_uri": "https://localhost:8080/"
        },
        "id": "zMmIF8IQYfnw",
        "outputId": "de529453-d0f8-4607-f253-c4286db9d651"
      },
      "execution_count": null,
      "outputs": [
        {
          "output_type": "stream",
          "name": "stderr",
          "text": [
            "[nltk_data] Downloading package punkt to /root/nltk_data...\n",
            "[nltk_data]   Unzipping tokenizers/punkt.zip.\n",
            "[nltk_data] Downloading package stopwords to /root/nltk_data...\n",
            "[nltk_data]   Unzipping corpora/stopwords.zip.\n"
          ]
        },
        {
          "output_type": "stream",
          "name": "stdout",
          "text": [
            "Результат суммаризации с использованием NLTK:\n",
            "According to Wayne Hale,\n",
            "  a flight director from Johnson Space Center, the Space Shuttle orbiter represents a “huge technological leap from expendable rockets\n",
            "  and capsules to a reusable, winged, hypersonic, cargo-carrying spacecraft.” Although her base structure followed a conventional\n",
            "  aircraft design, she used advanced materials that both minimized her weight for cargo-carrying purposes and featured low thermal\n",
            "  expansion ratios, which provided a stable base for her Thermal Protection System (TPS) materials.\n",
            "\n",
            "Результат суммаризации с использованием SpaCy:\n",
            "\n",
            "The Orbiter Discovery, OV-103, is considered eligible for listing in the National Register of Historic Places (NRHP) in\n",
            "the context of the U.S. Space Shuttle Program (1969-2011) under Criterion A in the areas of Space Exploration and\n",
            "Transportation and under Criterion C in the area of Engineering. Because it has achieved significance within the past fifty\n",
            "years, Criteria Consideration G applies.\n"
          ]
        }
      ]
    }
  ]
}